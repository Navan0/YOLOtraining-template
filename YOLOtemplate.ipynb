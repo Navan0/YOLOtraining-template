{
  "nbformat": 4,
  "nbformat_minor": 0,
  "metadata": {
    "colab": {
      "name": "YOLOtemplate.ipynb",
      "version": "0.3.2",
      "provenance": [],
      "include_colab_link": true
    },
    "kernelspec": {
      "name": "python3",
      "display_name": "Python 3"
    },
    "accelerator": "GPU"
  },
  "cells": [
    {
      "cell_type": "markdown",
      "metadata": {
        "id": "view-in-github",
        "colab_type": "text"
      },
      "source": [
        "<a href=\"https://colab.research.google.com/github/Navan0/YOLOtraining-template/blob/master/YOLOtemplate.ipynb\" target=\"_parent\"><img src=\"https://colab.research.google.com/assets/colab-badge.svg\" alt=\"Open In Colab\"/></a>"
      ]
    },
    {
      "metadata": {
        "id": "dQ78ZFAL2mNl",
        "colab_type": "code",
        "outputId": "5264b8c8-354e-4ce0-c516-239be2c21b17",
        "colab": {
          "base_uri": "https://localhost:8080/",
          "height": 34
        }
      },
      "cell_type": "code",
      "source": [
        "#clean /content\n",
        "%cd /content\n",
        "!rm -rf darknet"
      ],
      "execution_count": 0,
      "outputs": [
        {
          "output_type": "stream",
          "text": [
            "/content\n"
          ],
          "name": "stdout"
        }
      ]
    },
    {
      "metadata": {
        "id": "gILyZ2bmHb9H",
        "colab_type": "code",
        "colab": {}
      },
      "cell_type": "code",
      "source": [
        "#clone daknet from github\n",
        "!git clone https://github.com/AlexeyAB/darknet.git"
      ],
      "execution_count": 0,
      "outputs": []
    },
    {
      "metadata": {
        "id": "x4b1MHVfK3Ep",
        "colab_type": "code",
        "colab": {}
      },
      "cell_type": "code",
      "source": [
        "#change directory to darknet\n",
        "%cd darknet"
      ],
      "execution_count": 0,
      "outputs": []
    },
    {
      "metadata": {
        "id": "KKElruPqbvNl",
        "colab_type": "text"
      },
      "cell_type": "markdown",
      "source": [
        "Edit **Makefile** \\\n",
        "make sure notebook's runtime' harware accelarator is on GPU .check it from Insert-->Change runtime-->harware accelarator-->GPU"
      ]
    },
    {
      "metadata": {
        "id": "sIcxooMXLFhZ",
        "colab_type": "code",
        "colab": {}
      },
      "cell_type": "code",
      "source": [
        "#edit Makefile\n",
        "from google.colab import files\n",
        "files.download('Makefile')\n",
        "!rm Makefile"
      ],
      "execution_count": 0,
      "outputs": []
    },
    {
      "metadata": {
        "id": "AZmder7-cl4i",
        "colab_type": "text"
      },
      "cell_type": "markdown",
      "source": [
        "**make this changes**\n",
        "\n",
        "GPU=1\n",
        "\n",
        "CUDNN=1\n"
      ]
    },
    {
      "metadata": {
        "id": "FWsuNEnwLIz-",
        "colab_type": "code",
        "colab": {}
      },
      "cell_type": "code",
      "source": [
        "#upload after editing Makefile\n",
        "files.upload()"
      ],
      "execution_count": 0,
      "outputs": []
    },
    {
      "metadata": {
        "id": "U11oNuigOQqD",
        "colab_type": "code",
        "colab": {}
      },
      "cell_type": "code",
      "source": [
        "#make darknet\n",
        "!make"
      ],
      "execution_count": 0,
      "outputs": []
    },
    {
      "metadata": {
        "id": "Y3C2dQmJOTCL",
        "colab_type": "code",
        "outputId": "d3642225-f492-4293-c911-b04cc0ba5e4d",
        "colab": {
          "base_uri": "https://localhost:8080/",
          "height": 34
        }
      },
      "cell_type": "code",
      "source": [
        "#test darknet\n",
        "!./darknet\n"
      ],
      "execution_count": 0,
      "outputs": [
        {
          "output_type": "stream",
          "text": [
            "usage: ./darknet <function>\n"
          ],
          "name": "stdout"
        }
      ]
    },
    {
      "metadata": {
        "id": "imImxb3AYN75",
        "colab_type": "code",
        "colab": {}
      },
      "cell_type": "code",
      "source": [
        "#download weights\n",
        "!wget https://pjreddie.com/media/files/yolo.weights\n"
      ],
      "execution_count": 0,
      "outputs": []
    },
    {
      "metadata": {
        "id": "t591rKJjYfKW",
        "colab_type": "code",
        "colab": {}
      },
      "cell_type": "code",
      "source": [
        "#testing on the downloaded weights\n",
        "!./darknet detect cfg/yolo.cfg yolo.weights data/dog.jpg\n",
        "!rm yolo.weights\n"
      ],
      "execution_count": 0,
      "outputs": []
    },
    {
      "metadata": {
        "id": "g1ejxEG_YpIk",
        "colab_type": "code",
        "colab": {}
      },
      "cell_type": "code",
      "source": [
        "#mount google drive\n",
        "from google.colab import drive\n",
        "drive.mount('/content/gdrive')"
      ],
      "execution_count": 0,
      "outputs": []
    },
    {
      "metadata": {
        "id": "B9y2VhUzwH6q",
        "colab_type": "code",
        "colab": {}
      },
      "cell_type": "code",
      "source": [
        "%cd .."
      ],
      "execution_count": 0,
      "outputs": []
    },
    {
      "metadata": {
        "id": "CJKraVoowm-k",
        "colab_type": "code",
        "colab": {}
      },
      "cell_type": "code",
      "source": [
        "%cd gdrive/My\\ Drive/"
      ],
      "execution_count": 0,
      "outputs": []
    },
    {
      "metadata": {
        "id": "ixOYVssdwtxr",
        "colab_type": "code",
        "colab": {}
      },
      "cell_type": "code",
      "source": [
        "#copy the annotated data files into /content\n",
        "!cp -r not_private /content/"
      ],
      "execution_count": 0,
      "outputs": []
    },
    {
      "metadata": {
        "id": "hWiaEDnHhTxs",
        "colab_type": "code",
        "colab": {}
      },
      "cell_type": "code",
      "source": [
        "%ls"
      ],
      "execution_count": 0,
      "outputs": []
    },
    {
      "metadata": {
        "id": "ZsKzzXfBjNAq",
        "colab_type": "code",
        "colab": {}
      },
      "cell_type": "code",
      "source": [
        "#run proceess.py to divide the test and train data\n",
        "%cd /content/not_private/\n",
        "!python process.py\n",
        "#download test.txt to check the paths are correct\n",
        "files.download('test.txt')\n"
      ],
      "execution_count": 0,
      "outputs": []
    },
    {
      "metadata": {
        "id": "tPBHVwi770xE",
        "colab_type": "code",
        "colab": {}
      },
      "cell_type": "code",
      "source": [
        "#download pretrained network\n",
        "!wget https://pjreddie.com/media/files/darknet19_448.conv.23\n"
      ],
      "execution_count": 0,
      "outputs": []
    },
    {
      "metadata": {
        "id": "vtxKKAAtxRcZ",
        "colab_type": "code",
        "colab": {}
      },
      "cell_type": "code",
      "source": [
        "#change directory to darknet and start training\n",
        "%cd /content/darknet/\n",
        "!./darknet detector train cfg/obj.data cfg/yolo.cfg darknet19_448.conv.23"
      ],
      "execution_count": 0,
      "outputs": []
    },
    {
      "metadata": {
        "id": "GSiGZ49A8K2S",
        "colab_type": "code",
        "outputId": "75efda1b-dbad-4fb9-f23a-7be5753ac8bf",
        "colab": {
          "base_uri": "https://localhost:8080/",
          "height": 34
        }
      },
      "cell_type": "code",
      "source": [
        "%cd content/darknet/results\n",
        "!cp -r yolo_1000.weights content/gdrive/My\\ Drive/"
      ],
      "execution_count": 0,
      "outputs": [
        {
          "output_type": "stream",
          "text": [
            "/content/darknet\n"
          ],
          "name": "stdout"
        }
      ]
    },
    {
      "metadata": {
        "id": "GR13sRtz9hFf",
        "colab_type": "code",
        "colab": {}
      },
      "cell_type": "code",
      "source": [
        "#copy the weight file after 1000 iteration , you can train more to fine tune the model \n",
        "!cp -r /content/yolo_1000.weights /content/darknet/"
      ],
      "execution_count": 0,
      "outputs": []
    },
    {
      "metadata": {
        "id": "9DO5WNBR_jgl",
        "colab_type": "code",
        "colab": {}
      },
      "cell_type": "code",
      "source": [
        "#test the trained model weights \n",
        "!./darknet detector test cfg/obj.data cfg/yolo.cfg yolo_1000.weights data/helm34.jpg"
      ],
      "execution_count": 0,
      "outputs": []
    },
    {
      "metadata": {
        "id": "G2UOrXU5HAyq",
        "colab_type": "code",
        "colab": {}
      },
      "cell_type": "code",
      "source": [
        ""
      ],
      "execution_count": 0,
      "outputs": []
    }
  ]
}